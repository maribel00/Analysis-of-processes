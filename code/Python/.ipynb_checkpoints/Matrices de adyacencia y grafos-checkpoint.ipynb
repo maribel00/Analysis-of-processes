{
 "cells": [
  {
   "cell_type": "code",
   "execution_count": 1,
   "metadata": {},
   "outputs": [],
   "source": [
    "import networkx as nx\n",
    "import numpy as np\n",
    "import matplotlib.pyplot as plt"
   ]
  },
  {
   "cell_type": "code",
   "execution_count": 2,
   "metadata": {},
   "outputs": [
    {
     "ename": "FileNotFoundError",
     "evalue": "[Errno 2] No such file or directory: 'test.txt'",
     "output_type": "error",
     "traceback": [
      "\u001b[0;31m---------------------------------------------------------------------------\u001b[0m",
      "\u001b[0;31mFileNotFoundError\u001b[0m                         Traceback (most recent call last)",
      "Cell \u001b[0;32mIn[2], line 1\u001b[0m\n\u001b[0;32m----> 1\u001b[0m \u001b[38;5;28;01mwith\u001b[39;00m \u001b[38;5;28;43mopen\u001b[39;49m\u001b[43m(\u001b[49m\u001b[38;5;124;43m'\u001b[39;49m\u001b[38;5;124;43mtest.txt\u001b[39;49m\u001b[38;5;124;43m'\u001b[39;49m\u001b[43m,\u001b[49m\u001b[43m \u001b[49m\u001b[38;5;124;43m'\u001b[39;49m\u001b[38;5;124;43mr+\u001b[39;49m\u001b[38;5;124;43m'\u001b[39;49m\u001b[43m)\u001b[49m \u001b[38;5;28;01mas\u001b[39;00m archivo:\n\u001b[1;32m      2\u001b[0m     \u001b[38;5;66;03m# Leer la primera línea y guardarla en una variable\u001b[39;00m\n\u001b[1;32m      3\u001b[0m     header \u001b[38;5;241m=\u001b[39m archivo\u001b[38;5;241m.\u001b[39mreadline()\n\u001b[1;32m      5\u001b[0m     \u001b[38;5;66;03m# Leemos la matriz de frecuencias del archivo de texto\u001b[39;00m\n",
      "File \u001b[0;32m~/anaconda3/lib/python3.10/site-packages/IPython/core/interactiveshell.py:282\u001b[0m, in \u001b[0;36m_modified_open\u001b[0;34m(file, *args, **kwargs)\u001b[0m\n\u001b[1;32m    275\u001b[0m \u001b[38;5;28;01mif\u001b[39;00m file \u001b[38;5;129;01min\u001b[39;00m {\u001b[38;5;241m0\u001b[39m, \u001b[38;5;241m1\u001b[39m, \u001b[38;5;241m2\u001b[39m}:\n\u001b[1;32m    276\u001b[0m     \u001b[38;5;28;01mraise\u001b[39;00m \u001b[38;5;167;01mValueError\u001b[39;00m(\n\u001b[1;32m    277\u001b[0m         \u001b[38;5;124mf\u001b[39m\u001b[38;5;124m\"\u001b[39m\u001b[38;5;124mIPython won\u001b[39m\u001b[38;5;124m'\u001b[39m\u001b[38;5;124mt let you open fd=\u001b[39m\u001b[38;5;132;01m{\u001b[39;00mfile\u001b[38;5;132;01m}\u001b[39;00m\u001b[38;5;124m by default \u001b[39m\u001b[38;5;124m\"\u001b[39m\n\u001b[1;32m    278\u001b[0m         \u001b[38;5;124m\"\u001b[39m\u001b[38;5;124mas it is likely to crash IPython. If you know what you are doing, \u001b[39m\u001b[38;5;124m\"\u001b[39m\n\u001b[1;32m    279\u001b[0m         \u001b[38;5;124m\"\u001b[39m\u001b[38;5;124myou can use builtins\u001b[39m\u001b[38;5;124m'\u001b[39m\u001b[38;5;124m open.\u001b[39m\u001b[38;5;124m\"\u001b[39m\n\u001b[1;32m    280\u001b[0m     )\n\u001b[0;32m--> 282\u001b[0m \u001b[38;5;28;01mreturn\u001b[39;00m \u001b[43mio_open\u001b[49m\u001b[43m(\u001b[49m\u001b[43mfile\u001b[49m\u001b[43m,\u001b[49m\u001b[43m \u001b[49m\u001b[38;5;241;43m*\u001b[39;49m\u001b[43margs\u001b[49m\u001b[43m,\u001b[49m\u001b[43m \u001b[49m\u001b[38;5;241;43m*\u001b[39;49m\u001b[38;5;241;43m*\u001b[39;49m\u001b[43mkwargs\u001b[49m\u001b[43m)\u001b[49m\n",
      "\u001b[0;31mFileNotFoundError\u001b[0m: [Errno 2] No such file or directory: 'test.txt'"
     ]
    }
   ],
   "source": [
    "with open('test.txt', 'r+') as archivo:\n",
    "    # Leer la primera línea y guardarla en una variable\n",
    "    header = archivo.readline()\n",
    "    \n",
    "    # Leemos la matriz de frecuencias del archivo de texto\n",
    "    adj_matrix = np.genfromtxt(archivo, delimiter=' ')\n",
    "\n",
    "# Imprimir la primera línea\n",
    "print(header)\n",
    "labels = header.split()\n",
    "\n",
    "# Imprime la matriz\n",
    "print(adj_matrix)\n",
    "print(\"Tamaño de la matriz de adyacencia:\", len(adj_matrix))\n",
    "print(\"Tamaño de la cabecera:\", len(labels))"
   ]
  },
  {
   "cell_type": "code",
   "execution_count": null,
   "metadata": {},
   "outputs": [],
   "source": [
    "# Matriz vacía en la que insertaremos las diferentes aristas\n",
    "edges = []\n",
    "\n",
    "# Recorrido de la matriz original\n",
    "for row in adj_matrix:\n",
    "    new_row = []\n",
    "    for element in row:\n",
    "        if (element > 0):\n",
    "            new_row.append(1)\n",
    "        else:\n",
    "            new_row.append(0)\n",
    "    edges.append(new_row)"
   ]
  },
  {
   "cell_type": "code",
   "execution_count": null,
   "metadata": {},
   "outputs": [],
   "source": [
    "# Crear un grafo vacío\n",
    "grafo = nx.DiGraph()\n",
    "\n",
    "# Agregar nodos al grafo\n",
    "grafo.add_nodes_from(labels)\n",
    "\n",
    "# Agregar aristas al grafo\n",
    "for i in range(len(edges)):\n",
    "    for j in range(len(edges)):\n",
    "        if edges[i][j] == 1:\n",
    "            grafo.add_edge(labels[i], labels[j], weight=adj_matrix[i][j])\n",
    "\n",
    "# Posiciones horizontales\n",
    "horizontal = []\n",
    "pos_ini = 0\n",
    "for i in range(len(labels)-2):\n",
    "    horizontal.append(pos_ini)\n",
    "    pos_ini+=2\n",
    "    \n",
    "# Posiciones verticales\n",
    "vertical = {20:-3,40:-6,60:-9,80:-12,100:-15}\n",
    "\n",
    "\n",
    "# Definir la posición de los nodos\n",
    "max_problem = 0\n",
    "pos = {}\n",
    "for i in range(len(labels)-2):\n",
    "    label = labels[i]\n",
    "    r, j = label.split('-')\n",
    "    r = int(r[7:])\n",
    "    if (r > max_problem):\n",
    "        max_problem = r\n",
    "    j = int(j)\n",
    "    pos[label] = (horizontal[r], vertical[j])\n",
    "        \n",
    "pos['START'] = (max_problem,3)\n",
    "pos['END'] = (max_problem,-21)\n",
    "        \n",
    "# Crear una figura de tamaño 10x10 pulgadas\n",
    "plt.figure(figsize=(18, 24))\n",
    "\n",
    "# Agregamos las etiquetas a los nodos\n",
    "etiquetas_nodos = nx.get_node_attributes(grafo, 'label')\n",
    "nx.draw_networkx_labels(grafo, pos, etiquetas_nodos, font_size=9, font_family=\"sans-serif\")\n",
    "# Agregamos las etiquetas a las aristas\n",
    "edge_labels = nx.get_edge_attributes(grafo, \"weight\")\n",
    "nx.draw_networkx_edge_labels(grafo, pos, edge_labels)\n",
    "\n",
    "# Dibujar el grafo con posiciones fijas\n",
    "nx.draw_networkx(grafo, pos=pos, node_shape='o', node_size=8000, node_color=\"white\", edgecolors=\"black\", linewidths=2)\n",
    "plt.show()"
   ]
  },
  {
   "cell_type": "code",
   "execution_count": null,
   "metadata": {},
   "outputs": [],
   "source": [
    "import graphviz as gv # Importar el paquete necesario"
   ]
  },
  {
   "cell_type": "code",
   "execution_count": null,
   "metadata": {},
   "outputs": [],
   "source": [
    "# Crear un objeto de tipo grafo\n",
    "dot = gv.Digraph(comment='The Round Table')\n",
    "dot  #doctest: +ELLIPSIS"
   ]
  },
  {
   "cell_type": "code",
   "execution_count": null,
   "metadata": {},
   "outputs": [],
   "source": [
    "# Añadir nodos y aristas:\n",
    "dot.node('A', 'King Arthur')  # doctest: +NO_EXE\n",
    "dot.node('B', 'Sir Bedevere the Wise')\n",
    "dot.node('L', 'Sir Lancelot the Brave')\n",
    "\n",
    "dot.edges(['AB', 'AL'])\n",
    "dot.edge('B', 'L', constraint='false')"
   ]
  },
  {
   "cell_type": "code",
   "execution_count": null,
   "metadata": {},
   "outputs": [],
   "source": [
    "# Imprimimos el código fuente generado\n",
    "print(dot.source)"
   ]
  },
  {
   "cell_type": "code",
   "execution_count": null,
   "metadata": {},
   "outputs": [],
   "source": [
    "# Guardamos y renderizamos el código fuente\n",
    "dot.render('doctest-output/round-table.gv', view=True)  # doctest: +SKIP"
   ]
  },
  {
   "cell_type": "code",
   "execution_count": null,
   "metadata": {},
   "outputs": [],
   "source": [
    "# Crear un objeto de tipo grafo\n",
    "dot = gv.Digraph(comment='test')\n",
    "dot  #doctest: +ELLIPSIS"
   ]
  },
  {
   "cell_type": "code",
   "execution_count": null,
   "metadata": {},
   "outputs": [],
   "source": [
    "# Añadir nodos al grafo\n",
    "for ele in labels:\n",
    "    dot.node(ele,ele)\n",
    "\n",
    "# Agregar aristas al grafo\n",
    "for i in range(len(edges)):\n",
    "    for j in range(len(edges)):\n",
    "        if edges[i][j] == 1:\n",
    "            dot.edge(labels[i], labels[j], constraint='false')"
   ]
  },
  {
   "cell_type": "code",
   "execution_count": null,
   "metadata": {},
   "outputs": [],
   "source": [
    "# Imprimimos el código fuente generado\n",
    "print(dot.source)"
   ]
  },
  {
   "cell_type": "code",
   "execution_count": null,
   "metadata": {},
   "outputs": [],
   "source": [
    "from IPython.display import Image, display"
   ]
  },
  {
   "cell_type": "code",
   "execution_count": null,
   "metadata": {},
   "outputs": [],
   "source": [
    "#Create the image of folder tree\n",
    "im = Image(dot.create_jpeg())\n",
    "\n",
    "#Display the image\n",
    "display(im)\n",
    "\n",
    "#Save the image in jpeg format\n",
    "dot.write_jpeg(\"output/folder_tree.jpeg\")"
   ]
  },
  {
   "cell_type": "code",
   "execution_count": null,
   "metadata": {},
   "outputs": [],
   "source": [
    "# Guardamos y renderizamos el código fuente\n",
    "dot.render('doctest-output/test.gv', view=True)  # doctest: +SKIP"
   ]
  },
  {
   "cell_type": "code",
   "execution_count": null,
   "metadata": {},
   "outputs": [],
   "source": [
    "dot.view()"
   ]
  },
  {
   "cell_type": "code",
   "execution_count": null,
   "metadata": {},
   "outputs": [],
   "source": [
    "u = dot.unflatten(stagger=7) \n",
    "u.view()"
   ]
  },
  {
   "cell_type": "code",
   "execution_count": null,
   "metadata": {},
   "outputs": [],
   "source": [
    "from graphviz import Digraph\n",
    "\n",
    "# Crear un objeto Digraph\n",
    "g = Digraph('G', filename='grafo', format='png')\n",
    "\n",
    "# Establecer el tamaño del grafo en pulgadas\n",
    "g.graph_attr['size'] = '10,10'\n",
    "\n",
    "# Agregar nodos\n",
    "g.node('A')\n",
    "g.node('B')\n",
    "g.node('C')\n",
    "\n",
    "# Agregar aristas\n",
    "g.edge('A', 'B')\n",
    "g.edge('B', 'C')\n",
    "\n",
    "# Renderizar el grafo\n",
    "g.render()"
   ]
  },
  {
   "cell_type": "code",
   "execution_count": null,
   "metadata": {},
   "outputs": [],
   "source": []
  },
  {
   "cell_type": "code",
   "execution_count": null,
   "metadata": {},
   "outputs": [],
   "source": []
  }
 ],
 "metadata": {
  "kernelspec": {
   "display_name": "Python 3",
   "language": "python",
   "name": "python3"
  },
  "language_info": {
   "codemirror_mode": {
    "name": "ipython",
    "version": 3
   },
   "file_extension": ".py",
   "mimetype": "text/x-python",
   "name": "python",
   "nbconvert_exporter": "python",
   "pygments_lexer": "ipython3",
   "version": "3.10.9"
  }
 },
 "nbformat": 4,
 "nbformat_minor": 4
}
